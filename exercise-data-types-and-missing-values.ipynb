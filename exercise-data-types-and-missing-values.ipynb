{
 "cells": [
  {
   "cell_type": "markdown",
   "id": "4ce0e05d",
   "metadata": {
    "papermill": {
     "duration": 0.017586,
     "end_time": "2021-07-14T15:12:01.901954",
     "exception": false,
     "start_time": "2021-07-14T15:12:01.884368",
     "status": "completed"
    },
    "tags": []
   },
   "source": [
    "**This notebook is an exercise in the [Pandas](https://www.kaggle.com/learn/pandas) course.  You can reference the tutorial at [this link](https://www.kaggle.com/residentmario/data-types-and-missing-values).**\n",
    "\n",
    "---\n"
   ]
  },
  {
   "cell_type": "markdown",
   "id": "128ed1a7",
   "metadata": {
    "papermill": {
     "duration": 0.011389,
     "end_time": "2021-07-14T15:12:01.926458",
     "exception": false,
     "start_time": "2021-07-14T15:12:01.915069",
     "status": "completed"
    },
    "tags": []
   },
   "source": [
    "# Introduction\n",
    "\n",
    "Run the following cell to load your data and some utility functions."
   ]
  },
  {
   "cell_type": "code",
   "execution_count": 1,
   "id": "abb9f17e",
   "metadata": {
    "execution": {
     "iopub.execute_input": "2021-07-14T15:12:01.969081Z",
     "iopub.status.busy": "2021-07-14T15:12:01.962364Z",
     "iopub.status.idle": "2021-07-14T15:12:05.256048Z",
     "shell.execute_reply": "2021-07-14T15:12:05.256704Z"
    },
    "papermill": {
     "duration": 3.318645,
     "end_time": "2021-07-14T15:12:05.257032",
     "exception": false,
     "start_time": "2021-07-14T15:12:01.938387",
     "status": "completed"
    },
    "tags": []
   },
   "outputs": [
    {
     "name": "stdout",
     "output_type": "stream",
     "text": [
      "Setup complete.\n"
     ]
    }
   ],
   "source": [
    "import pandas as pd\n",
    "\n",
    "reviews = pd.read_csv(\"../input/wine-reviews/winemag-data-130k-v2.csv\", index_col=0)\n",
    "\n",
    "from learntools.core import binder; binder.bind(globals())\n",
    "from learntools.pandas.data_types_and_missing_data import *\n",
    "print(\"Setup complete.\")"
   ]
  },
  {
   "cell_type": "markdown",
   "id": "c719f971",
   "metadata": {
    "papermill": {
     "duration": 0.011557,
     "end_time": "2021-07-14T15:12:05.281236",
     "exception": false,
     "start_time": "2021-07-14T15:12:05.269679",
     "status": "completed"
    },
    "tags": []
   },
   "source": [
    "# Exercises"
   ]
  },
  {
   "cell_type": "markdown",
   "id": "a1b95f08",
   "metadata": {
    "papermill": {
     "duration": 0.011475,
     "end_time": "2021-07-14T15:12:05.304722",
     "exception": false,
     "start_time": "2021-07-14T15:12:05.293247",
     "status": "completed"
    },
    "tags": []
   },
   "source": [
    "## 1. \n",
    "What is the data type of the `points` column in the dataset?"
   ]
  },
  {
   "cell_type": "code",
   "execution_count": 2,
   "id": "7fd65e46",
   "metadata": {
    "execution": {
     "iopub.execute_input": "2021-07-14T15:12:05.332077Z",
     "iopub.status.busy": "2021-07-14T15:12:05.331321Z",
     "iopub.status.idle": "2021-07-14T15:12:05.341351Z",
     "shell.execute_reply": "2021-07-14T15:12:05.341932Z"
    },
    "papermill": {
     "duration": 0.025378,
     "end_time": "2021-07-14T15:12:05.342104",
     "exception": false,
     "start_time": "2021-07-14T15:12:05.316726",
     "status": "completed"
    },
    "tags": []
   },
   "outputs": [
    {
     "data": {
      "application/javascript": [
       "parent.postMessage({\"jupyterEvent\": \"custom.exercise_interaction\", \"data\": {\"outcomeType\": 1, \"valueTowardsCompletion\": 0.25, \"interactionType\": 1, \"questionType\": 1, \"questionId\": \"1_PointsDtype\", \"learnToolsVersion\": \"0.3.4\", \"failureMessage\": \"\", \"exceptionClass\": \"\", \"trace\": \"\"}}, \"*\")"
      ],
      "text/plain": [
       "<IPython.core.display.Javascript object>"
      ]
     },
     "metadata": {},
     "output_type": "display_data"
    },
    {
     "data": {
      "text/markdown": [
       "<span style=\"color:#33cc33\">Correct</span>"
      ],
      "text/plain": [
       "Correct"
      ]
     },
     "metadata": {},
     "output_type": "display_data"
    }
   ],
   "source": [
    "# Your code here\n",
    "dtype = reviews.points.dtype\n",
    "\n",
    "# Check your answer\n",
    "q1.check()"
   ]
  },
  {
   "cell_type": "code",
   "execution_count": 3,
   "id": "1a64b0e6",
   "metadata": {
    "execution": {
     "iopub.execute_input": "2021-07-14T15:12:05.371828Z",
     "iopub.status.busy": "2021-07-14T15:12:05.371083Z",
     "iopub.status.idle": "2021-07-14T15:12:05.375513Z",
     "shell.execute_reply": "2021-07-14T15:12:05.374993Z"
    },
    "papermill": {
     "duration": 0.020419,
     "end_time": "2021-07-14T15:12:05.375655",
     "exception": false,
     "start_time": "2021-07-14T15:12:05.355236",
     "status": "completed"
    },
    "tags": []
   },
   "outputs": [],
   "source": [
    "#q1.hint()\n",
    "#q1.solution()"
   ]
  },
  {
   "cell_type": "markdown",
   "id": "47fe2ca7",
   "metadata": {
    "papermill": {
     "duration": 0.013086,
     "end_time": "2021-07-14T15:12:05.402222",
     "exception": false,
     "start_time": "2021-07-14T15:12:05.389136",
     "status": "completed"
    },
    "tags": []
   },
   "source": [
    "## 2. \n",
    "Create a Series from entries in the `points` column, but convert the entries to strings. Hint: strings are `str` in native Python."
   ]
  },
  {
   "cell_type": "code",
   "execution_count": 4,
   "id": "d4054daf",
   "metadata": {
    "execution": {
     "iopub.execute_input": "2021-07-14T15:12:05.594004Z",
     "iopub.status.busy": "2021-07-14T15:12:05.433222Z",
     "iopub.status.idle": "2021-07-14T15:12:05.599447Z",
     "shell.execute_reply": "2021-07-14T15:12:05.599949Z"
    },
    "papermill": {
     "duration": 0.184448,
     "end_time": "2021-07-14T15:12:05.600120",
     "exception": false,
     "start_time": "2021-07-14T15:12:05.415672",
     "status": "completed"
    },
    "tags": []
   },
   "outputs": [
    {
     "data": {
      "application/javascript": [
       "parent.postMessage({\"jupyterEvent\": \"custom.exercise_interaction\", \"data\": {\"outcomeType\": 1, \"valueTowardsCompletion\": 0.25, \"interactionType\": 1, \"questionType\": 1, \"questionId\": \"2_StrPoints\", \"learnToolsVersion\": \"0.3.4\", \"failureMessage\": \"\", \"exceptionClass\": \"\", \"trace\": \"\"}}, \"*\")"
      ],
      "text/plain": [
       "<IPython.core.display.Javascript object>"
      ]
     },
     "metadata": {},
     "output_type": "display_data"
    },
    {
     "data": {
      "text/markdown": [
       "<span style=\"color:#33cc33\">Correct</span>"
      ],
      "text/plain": [
       "Correct"
      ]
     },
     "metadata": {},
     "output_type": "display_data"
    }
   ],
   "source": [
    "point_strings = reviews.points.astype('str')\n",
    "\n",
    "# Check your answer\n",
    "q2.check()"
   ]
  },
  {
   "cell_type": "code",
   "execution_count": 5,
   "id": "ac6a1b18",
   "metadata": {
    "execution": {
     "iopub.execute_input": "2021-07-14T15:12:05.633260Z",
     "iopub.status.busy": "2021-07-14T15:12:05.631976Z",
     "iopub.status.idle": "2021-07-14T15:12:05.634083Z",
     "shell.execute_reply": "2021-07-14T15:12:05.634574Z"
    },
    "papermill": {
     "duration": 0.020478,
     "end_time": "2021-07-14T15:12:05.634744",
     "exception": false,
     "start_time": "2021-07-14T15:12:05.614266",
     "status": "completed"
    },
    "tags": []
   },
   "outputs": [],
   "source": [
    "#q2.hint()\n",
    "#q2.solution()"
   ]
  },
  {
   "cell_type": "markdown",
   "id": "3832be91",
   "metadata": {
    "papermill": {
     "duration": 0.014157,
     "end_time": "2021-07-14T15:12:05.663257",
     "exception": false,
     "start_time": "2021-07-14T15:12:05.649100",
     "status": "completed"
    },
    "tags": []
   },
   "source": [
    "## 3.\n",
    "Sometimes the price column is null. How many reviews in the dataset are missing a price?"
   ]
  },
  {
   "cell_type": "code",
   "execution_count": 6,
   "id": "fedc6a14",
   "metadata": {
    "execution": {
     "iopub.execute_input": "2021-07-14T15:12:05.698369Z",
     "iopub.status.busy": "2021-07-14T15:12:05.697166Z",
     "iopub.status.idle": "2021-07-14T15:12:05.702969Z",
     "shell.execute_reply": "2021-07-14T15:12:05.703516Z"
    },
    "papermill": {
     "duration": 0.026179,
     "end_time": "2021-07-14T15:12:05.703688",
     "exception": false,
     "start_time": "2021-07-14T15:12:05.677509",
     "status": "completed"
    },
    "tags": []
   },
   "outputs": [
    {
     "data": {
      "application/javascript": [
       "parent.postMessage({\"jupyterEvent\": \"custom.exercise_interaction\", \"data\": {\"outcomeType\": 1, \"valueTowardsCompletion\": 0.25, \"interactionType\": 1, \"questionType\": 1, \"questionId\": \"3_CountMissingPrices\", \"learnToolsVersion\": \"0.3.4\", \"failureMessage\": \"\", \"exceptionClass\": \"\", \"trace\": \"\"}}, \"*\")"
      ],
      "text/plain": [
       "<IPython.core.display.Javascript object>"
      ]
     },
     "metadata": {},
     "output_type": "display_data"
    },
    {
     "data": {
      "text/markdown": [
       "<span style=\"color:#33cc33\">Correct</span>"
      ],
      "text/plain": [
       "Correct"
      ]
     },
     "metadata": {},
     "output_type": "display_data"
    }
   ],
   "source": [
    "n_missing_prices = reviews.price.isnull().sum()\n",
    "\n",
    "# Check your answer\n",
    "q3.check()"
   ]
  },
  {
   "cell_type": "code",
   "execution_count": 7,
   "id": "8cfc4991",
   "metadata": {
    "execution": {
     "iopub.execute_input": "2021-07-14T15:12:05.737235Z",
     "iopub.status.busy": "2021-07-14T15:12:05.736616Z",
     "iopub.status.idle": "2021-07-14T15:12:05.741089Z",
     "shell.execute_reply": "2021-07-14T15:12:05.740583Z"
    },
    "papermill": {
     "duration": 0.022107,
     "end_time": "2021-07-14T15:12:05.741234",
     "exception": false,
     "start_time": "2021-07-14T15:12:05.719127",
     "status": "completed"
    },
    "tags": []
   },
   "outputs": [],
   "source": [
    "#q3.hint()\n",
    "#q3.solution()"
   ]
  },
  {
   "cell_type": "markdown",
   "id": "e9e53bac",
   "metadata": {
    "papermill": {
     "duration": 0.015229,
     "end_time": "2021-07-14T15:12:05.771895",
     "exception": false,
     "start_time": "2021-07-14T15:12:05.756666",
     "status": "completed"
    },
    "tags": []
   },
   "source": [
    "## 4.\n",
    "What are the most common wine-producing regions? Create a Series counting the number of times each value occurs in the `region_1` field. This field is often missing data, so replace missing values with `Unknown`. Sort in descending order.  Your output should look something like this:\n",
    "\n",
    "```\n",
    "Unknown                    21247\n",
    "Napa Valley                 4480\n",
    "                           ...  \n",
    "Bardolino Superiore            1\n",
    "Primitivo del Tarantino        1\n",
    "Name: region_1, Length: 1230, dtype: int64\n",
    "```"
   ]
  },
  {
   "cell_type": "code",
   "execution_count": 8,
   "id": "8f346e45",
   "metadata": {
    "execution": {
     "iopub.execute_input": "2021-07-14T15:12:05.820211Z",
     "iopub.status.busy": "2021-07-14T15:12:05.819548Z",
     "iopub.status.idle": "2021-07-14T15:12:05.910528Z",
     "shell.execute_reply": "2021-07-14T15:12:05.909870Z"
    },
    "papermill": {
     "duration": 0.123445,
     "end_time": "2021-07-14T15:12:05.910680",
     "exception": false,
     "start_time": "2021-07-14T15:12:05.787235",
     "status": "completed"
    },
    "tags": []
   },
   "outputs": [
    {
     "data": {
      "application/javascript": [
       "parent.postMessage({\"jupyterEvent\": \"custom.exercise_interaction\", \"data\": {\"outcomeType\": 1, \"valueTowardsCompletion\": 0.25, \"interactionType\": 1, \"questionType\": 2, \"questionId\": \"4_ReviewsPerRegion\", \"learnToolsVersion\": \"0.3.4\", \"failureMessage\": \"\", \"exceptionClass\": \"\", \"trace\": \"\"}}, \"*\")"
      ],
      "text/plain": [
       "<IPython.core.display.Javascript object>"
      ]
     },
     "metadata": {},
     "output_type": "display_data"
    },
    {
     "data": {
      "text/markdown": [
       "<span style=\"color:#33cc33\">Correct</span>"
      ],
      "text/plain": [
       "Correct"
      ]
     },
     "metadata": {},
     "output_type": "display_data"
    }
   ],
   "source": [
    "reviews_per_region = reviews.region_1.fillna('Unknown').value_counts().sort_values(ascending = False)\n",
    "\n",
    "\n",
    "# Check your answer\n",
    "q4.check()"
   ]
  },
  {
   "cell_type": "code",
   "execution_count": 9,
   "id": "f6a668a8",
   "metadata": {
    "execution": {
     "iopub.execute_input": "2021-07-14T15:12:05.948954Z",
     "iopub.status.busy": "2021-07-14T15:12:05.948293Z",
     "iopub.status.idle": "2021-07-14T15:12:05.955785Z",
     "shell.execute_reply": "2021-07-14T15:12:05.956337Z"
    },
    "papermill": {
     "duration": 0.029084,
     "end_time": "2021-07-14T15:12:05.956503",
     "exception": false,
     "start_time": "2021-07-14T15:12:05.927419",
     "status": "completed"
    },
    "tags": []
   },
   "outputs": [
    {
     "data": {
      "application/javascript": [
       "parent.postMessage({\"jupyterEvent\": \"custom.exercise_interaction\", \"data\": {\"interactionType\": 2, \"questionType\": 2, \"questionId\": \"4_ReviewsPerRegion\", \"learnToolsVersion\": \"0.3.4\", \"valueTowardsCompletion\": 0.0, \"failureMessage\": \"\", \"exceptionClass\": \"\", \"trace\": \"\", \"outcomeType\": 4}}, \"*\")"
      ],
      "text/plain": [
       "<IPython.core.display.Javascript object>"
      ]
     },
     "metadata": {},
     "output_type": "display_data"
    },
    {
     "data": {
      "text/markdown": [
       "<span style=\"color:#3366cc\">Hint:</span> Use `fillna()`, `value_counts()`, and `sort_values()`."
      ],
      "text/plain": [
       "Hint: Use `fillna()`, `value_counts()`, and `sort_values()`."
      ]
     },
     "metadata": {},
     "output_type": "display_data"
    },
    {
     "data": {
      "application/javascript": [
       "parent.postMessage({\"jupyterEvent\": \"custom.exercise_interaction\", \"data\": {\"interactionType\": 3, \"questionType\": 2, \"questionId\": \"4_ReviewsPerRegion\", \"learnToolsVersion\": \"0.3.4\", \"valueTowardsCompletion\": 0.0, \"failureMessage\": \"\", \"exceptionClass\": \"\", \"trace\": \"\", \"outcomeType\": 4}}, \"*\")"
      ],
      "text/plain": [
       "<IPython.core.display.Javascript object>"
      ]
     },
     "metadata": {},
     "output_type": "display_data"
    },
    {
     "data": {
      "text/markdown": [
       "<span style=\"color:#33cc99\">Solution:</span> \n",
       "```python\n",
       "reviews_per_region = reviews.region_1.fillna('Unknown').value_counts().sort_values(ascending=False)\n",
       "```"
      ],
      "text/plain": [
       "Solution: \n",
       "```python\n",
       "reviews_per_region = reviews.region_1.fillna('Unknown').value_counts().sort_values(ascending=False)\n",
       "```"
      ]
     },
     "metadata": {},
     "output_type": "display_data"
    }
   ],
   "source": [
    "q4.hint()\n",
    "q4.solution()"
   ]
  },
  {
   "cell_type": "markdown",
   "id": "b099cf19",
   "metadata": {
    "papermill": {
     "duration": 0.018355,
     "end_time": "2021-07-14T15:12:05.993637",
     "exception": false,
     "start_time": "2021-07-14T15:12:05.975282",
     "status": "completed"
    },
    "tags": []
   },
   "source": [
    "# Keep going\n",
    "\n",
    "Move on to **[renaming and combining](https://www.kaggle.com/residentmario/renaming-and-combining)**."
   ]
  },
  {
   "cell_type": "markdown",
   "id": "ac7632c3",
   "metadata": {
    "papermill": {
     "duration": 0.018567,
     "end_time": "2021-07-14T15:12:06.031777",
     "exception": false,
     "start_time": "2021-07-14T15:12:06.013210",
     "status": "completed"
    },
    "tags": []
   },
   "source": [
    "---\n",
    "\n",
    "\n",
    "\n",
    "\n",
    "*Have questions or comments? Visit the [Learn Discussion forum](https://www.kaggle.com/learn-forum/161299) to chat with other Learners.*"
   ]
  }
 ],
 "metadata": {
  "kernelspec": {
   "display_name": "Python 3",
   "language": "python",
   "name": "python3"
  },
  "language_info": {
   "codemirror_mode": {
    "name": "ipython",
    "version": 3
   },
   "file_extension": ".py",
   "mimetype": "text/x-python",
   "name": "python",
   "nbconvert_exporter": "python",
   "pygments_lexer": "ipython3",
   "version": "3.7.10"
  },
  "papermill": {
   "default_parameters": {},
   "duration": 14.878705,
   "end_time": "2021-07-14T15:12:07.690120",
   "environment_variables": {},
   "exception": null,
   "input_path": "__notebook__.ipynb",
   "output_path": "__notebook__.ipynb",
   "parameters": {},
   "start_time": "2021-07-14T15:11:52.811415",
   "version": "2.3.3"
  }
 },
 "nbformat": 4,
 "nbformat_minor": 5
}
