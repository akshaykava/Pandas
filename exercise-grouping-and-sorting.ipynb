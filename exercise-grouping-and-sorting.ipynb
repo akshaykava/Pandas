{
 "cells": [
  {
   "cell_type": "markdown",
   "id": "92344d6a",
   "metadata": {
    "papermill": {
     "duration": 0.016976,
     "end_time": "2021-07-14T15:10:27.255969",
     "exception": false,
     "start_time": "2021-07-14T15:10:27.238993",
     "status": "completed"
    },
    "tags": []
   },
   "source": [
    "**This notebook is an exercise in the [Pandas](https://www.kaggle.com/learn/pandas) course.  You can reference the tutorial at [this link](https://www.kaggle.com/residentmario/grouping-and-sorting).**\n",
    "\n",
    "---\n"
   ]
  },
  {
   "cell_type": "markdown",
   "id": "a0dfeb3d",
   "metadata": {
    "papermill": {
     "duration": 0.015205,
     "end_time": "2021-07-14T15:10:27.287467",
     "exception": false,
     "start_time": "2021-07-14T15:10:27.272262",
     "status": "completed"
    },
    "tags": []
   },
   "source": [
    "# Introduction\n",
    "\n",
    "In these exercises we'll apply groupwise analysis to our dataset.\n",
    "\n",
    "Run the code cell below to load the data before running the exercises."
   ]
  },
  {
   "cell_type": "code",
   "execution_count": 1,
   "id": "255991f0",
   "metadata": {
    "execution": {
     "iopub.execute_input": "2021-07-14T15:10:27.333748Z",
     "iopub.status.busy": "2021-07-14T15:10:27.333016Z",
     "iopub.status.idle": "2021-07-14T15:10:30.708136Z",
     "shell.execute_reply": "2021-07-14T15:10:30.709063Z"
    },
    "papermill": {
     "duration": 3.406369,
     "end_time": "2021-07-14T15:10:30.709475",
     "exception": false,
     "start_time": "2021-07-14T15:10:27.303106",
     "status": "completed"
    },
    "tags": []
   },
   "outputs": [
    {
     "name": "stdout",
     "output_type": "stream",
     "text": [
      "Setup complete.\n"
     ]
    }
   ],
   "source": [
    "import pandas as pd\n",
    "\n",
    "reviews = pd.read_csv(\"../input/wine-reviews/winemag-data-130k-v2.csv\", index_col=0)\n",
    "#pd.set_option(\"display.max_rows\", 5)\n",
    "\n",
    "from learntools.core import binder; binder.bind(globals())\n",
    "from learntools.pandas.grouping_and_sorting import *\n",
    "print(\"Setup complete.\")"
   ]
  },
  {
   "cell_type": "markdown",
   "id": "969fc3dd",
   "metadata": {
    "papermill": {
     "duration": 0.01574,
     "end_time": "2021-07-14T15:10:30.743668",
     "exception": false,
     "start_time": "2021-07-14T15:10:30.727928",
     "status": "completed"
    },
    "tags": []
   },
   "source": [
    "# Exercises"
   ]
  },
  {
   "cell_type": "markdown",
   "id": "92146552",
   "metadata": {
    "papermill": {
     "duration": 0.015793,
     "end_time": "2021-07-14T15:10:30.775508",
     "exception": false,
     "start_time": "2021-07-14T15:10:30.759715",
     "status": "completed"
    },
    "tags": []
   },
   "source": [
    "## 1.\n",
    "Who are the most common wine reviewers in the dataset? Create a `Series` whose index is the `taster_twitter_handle` category from the dataset, and whose values count how many reviews each person wrote."
   ]
  },
  {
   "cell_type": "code",
   "execution_count": 2,
   "id": "bde88ad9",
   "metadata": {
    "execution": {
     "iopub.execute_input": "2021-07-14T15:10:30.829874Z",
     "iopub.status.busy": "2021-07-14T15:10:30.828885Z",
     "iopub.status.idle": "2021-07-14T15:10:30.853031Z",
     "shell.execute_reply": "2021-07-14T15:10:30.852415Z"
    },
    "papermill": {
     "duration": 0.061643,
     "end_time": "2021-07-14T15:10:30.853175",
     "exception": false,
     "start_time": "2021-07-14T15:10:30.791532",
     "status": "completed"
    },
    "tags": []
   },
   "outputs": [
    {
     "data": {
      "application/javascript": [
       "parent.postMessage({\"jupyterEvent\": \"custom.exercise_interaction\", \"data\": {\"outcomeType\": 1, \"valueTowardsCompletion\": 0.16666666666666666, \"interactionType\": 1, \"questionType\": 1, \"questionId\": \"1_ReviewsWritten\", \"learnToolsVersion\": \"0.3.4\", \"failureMessage\": \"\", \"exceptionClass\": \"\", \"trace\": \"\"}}, \"*\")"
      ],
      "text/plain": [
       "<IPython.core.display.Javascript object>"
      ]
     },
     "metadata": {},
     "output_type": "display_data"
    },
    {
     "data": {
      "text/markdown": [
       "<span style=\"color:#33cc33\">Correct:</span> \n",
       "\n",
       "\n",
       "```python\n",
       "reviews_written = reviews.groupby('taster_twitter_handle').size()\n",
       "```\n",
       "or\n",
       "```python\n",
       "reviews_written = reviews.groupby('taster_twitter_handle').taster_twitter_handle.count()\n",
       "```\n"
      ],
      "text/plain": [
       "Correct: \n",
       "\n",
       "\n",
       "```python\n",
       "reviews_written = reviews.groupby('taster_twitter_handle').size()\n",
       "```\n",
       "or\n",
       "```python\n",
       "reviews_written = reviews.groupby('taster_twitter_handle').taster_twitter_handle.count()\n",
       "```"
      ]
     },
     "metadata": {},
     "output_type": "display_data"
    }
   ],
   "source": [
    "# Your code here\n",
    "reviews_written = reviews.groupby('taster_twitter_handle').taster_twitter_handle.count()\n",
    "# Check your answer\n",
    "q1.check()"
   ]
  },
  {
   "cell_type": "code",
   "execution_count": 3,
   "id": "2487f301",
   "metadata": {
    "execution": {
     "iopub.execute_input": "2021-07-14T15:10:30.893649Z",
     "iopub.status.busy": "2021-07-14T15:10:30.892595Z",
     "iopub.status.idle": "2021-07-14T15:10:30.920169Z",
     "shell.execute_reply": "2021-07-14T15:10:30.920680Z"
    },
    "papermill": {
     "duration": 0.050339,
     "end_time": "2021-07-14T15:10:30.920862",
     "exception": false,
     "start_time": "2021-07-14T15:10:30.870523",
     "status": "completed"
    },
    "tags": []
   },
   "outputs": [
    {
     "data": {
      "application/javascript": [
       "parent.postMessage({\"jupyterEvent\": \"custom.exercise_interaction\", \"data\": {\"interactionType\": 2, \"questionType\": 1, \"questionId\": \"1_ReviewsWritten\", \"learnToolsVersion\": \"0.3.4\", \"valueTowardsCompletion\": 0.0, \"failureMessage\": \"\", \"exceptionClass\": \"\", \"trace\": \"\", \"outcomeType\": 4}}, \"*\")"
      ],
      "text/plain": [
       "<IPython.core.display.Javascript object>"
      ]
     },
     "metadata": {},
     "output_type": "display_data"
    },
    {
     "data": {
      "text/markdown": [
       "<span style=\"color:#3366cc\">Hint:</span> Use the `groupby` operation and `size()` (or `count()`)."
      ],
      "text/plain": [
       "Hint: Use the `groupby` operation and `size()` (or `count()`)."
      ]
     },
     "metadata": {},
     "output_type": "display_data"
    },
    {
     "data": {
      "text/html": [
       "<div>\n",
       "<style scoped>\n",
       "    .dataframe tbody tr th:only-of-type {\n",
       "        vertical-align: middle;\n",
       "    }\n",
       "\n",
       "    .dataframe tbody tr th {\n",
       "        vertical-align: top;\n",
       "    }\n",
       "\n",
       "    .dataframe thead th {\n",
       "        text-align: right;\n",
       "    }\n",
       "</style>\n",
       "<table border=\"1\" class=\"dataframe\">\n",
       "  <thead>\n",
       "    <tr style=\"text-align: right;\">\n",
       "      <th></th>\n",
       "      <th>country</th>\n",
       "      <th>description</th>\n",
       "      <th>designation</th>\n",
       "      <th>points</th>\n",
       "      <th>price</th>\n",
       "      <th>province</th>\n",
       "      <th>region_1</th>\n",
       "      <th>region_2</th>\n",
       "      <th>taster_name</th>\n",
       "      <th>taster_twitter_handle</th>\n",
       "      <th>title</th>\n",
       "      <th>variety</th>\n",
       "      <th>winery</th>\n",
       "    </tr>\n",
       "  </thead>\n",
       "  <tbody>\n",
       "    <tr>\n",
       "      <th>0</th>\n",
       "      <td>Italy</td>\n",
       "      <td>Aromas include tropical fruit, broom, brimston...</td>\n",
       "      <td>Vulkà Bianco</td>\n",
       "      <td>87</td>\n",
       "      <td>NaN</td>\n",
       "      <td>Sicily &amp; Sardinia</td>\n",
       "      <td>Etna</td>\n",
       "      <td>NaN</td>\n",
       "      <td>Kerin O’Keefe</td>\n",
       "      <td>@kerinokeefe</td>\n",
       "      <td>Nicosia 2013 Vulkà Bianco  (Etna)</td>\n",
       "      <td>White Blend</td>\n",
       "      <td>Nicosia</td>\n",
       "    </tr>\n",
       "    <tr>\n",
       "      <th>1</th>\n",
       "      <td>Portugal</td>\n",
       "      <td>This is ripe and fruity, a wine that is smooth...</td>\n",
       "      <td>Avidagos</td>\n",
       "      <td>87</td>\n",
       "      <td>15.0</td>\n",
       "      <td>Douro</td>\n",
       "      <td>NaN</td>\n",
       "      <td>NaN</td>\n",
       "      <td>Roger Voss</td>\n",
       "      <td>@vossroger</td>\n",
       "      <td>Quinta dos Avidagos 2011 Avidagos Red (Douro)</td>\n",
       "      <td>Portuguese Red</td>\n",
       "      <td>Quinta dos Avidagos</td>\n",
       "    </tr>\n",
       "  </tbody>\n",
       "</table>\n",
       "</div>"
      ],
      "text/plain": [
       "    country                                        description   designation  \\\n",
       "0     Italy  Aromas include tropical fruit, broom, brimston...  Vulkà Bianco   \n",
       "1  Portugal  This is ripe and fruity, a wine that is smooth...      Avidagos   \n",
       "\n",
       "   points  price           province region_1 region_2    taster_name  \\\n",
       "0      87    NaN  Sicily & Sardinia     Etna      NaN  Kerin O’Keefe   \n",
       "1      87   15.0              Douro      NaN      NaN     Roger Voss   \n",
       "\n",
       "  taster_twitter_handle                                          title  \\\n",
       "0          @kerinokeefe              Nicosia 2013 Vulkà Bianco  (Etna)   \n",
       "1            @vossroger  Quinta dos Avidagos 2011 Avidagos Red (Douro)   \n",
       "\n",
       "          variety               winery  \n",
       "0     White Blend              Nicosia  \n",
       "1  Portuguese Red  Quinta dos Avidagos  "
      ]
     },
     "execution_count": 3,
     "metadata": {},
     "output_type": "execute_result"
    }
   ],
   "source": [
    "q1.hint()\n",
    "#q1.solution()\n",
    "reviews.head(2)"
   ]
  },
  {
   "cell_type": "markdown",
   "id": "094765e2",
   "metadata": {
    "papermill": {
     "duration": 0.018627,
     "end_time": "2021-07-14T15:10:30.958604",
     "exception": false,
     "start_time": "2021-07-14T15:10:30.939977",
     "status": "completed"
    },
    "tags": []
   },
   "source": [
    "## 2.\n",
    "What is the best wine I can buy for a given amount of money? Create a `Series` whose index is wine prices and whose values is the maximum number of points a wine costing that much was given in a review. Sort the values by price, ascending (so that `4.0` dollars is at the top and `3300.0` dollars is at the bottom)."
   ]
  },
  {
   "cell_type": "code",
   "execution_count": 4,
   "id": "ea330762",
   "metadata": {
    "execution": {
     "iopub.execute_input": "2021-07-14T15:10:31.002539Z",
     "iopub.status.busy": "2021-07-14T15:10:31.001453Z",
     "iopub.status.idle": "2021-07-14T15:10:31.013867Z",
     "shell.execute_reply": "2021-07-14T15:10:31.014341Z"
    },
    "papermill": {
     "duration": 0.036824,
     "end_time": "2021-07-14T15:10:31.014538",
     "exception": false,
     "start_time": "2021-07-14T15:10:30.977714",
     "status": "completed"
    },
    "tags": []
   },
   "outputs": [
    {
     "data": {
      "application/javascript": [
       "parent.postMessage({\"jupyterEvent\": \"custom.exercise_interaction\", \"data\": {\"outcomeType\": 1, \"valueTowardsCompletion\": 0.16666666666666666, \"interactionType\": 1, \"questionType\": 1, \"questionId\": \"2_BestRatingPerPrice\", \"learnToolsVersion\": \"0.3.4\", \"failureMessage\": \"\", \"exceptionClass\": \"\", \"trace\": \"\"}}, \"*\")"
      ],
      "text/plain": [
       "<IPython.core.display.Javascript object>"
      ]
     },
     "metadata": {},
     "output_type": "display_data"
    },
    {
     "data": {
      "text/markdown": [
       "<span style=\"color:#33cc33\">Correct</span>"
      ],
      "text/plain": [
       "Correct"
      ]
     },
     "metadata": {},
     "output_type": "display_data"
    }
   ],
   "source": [
    "best_rating_per_price = reviews.groupby('price')['points'].max().sort_index()\n",
    "\n",
    "# Check your answer\n",
    "q2.check()"
   ]
  },
  {
   "cell_type": "code",
   "execution_count": 5,
   "id": "a7f43283",
   "metadata": {
    "execution": {
     "iopub.execute_input": "2021-07-14T15:10:31.060458Z",
     "iopub.status.busy": "2021-07-14T15:10:31.059462Z",
     "iopub.status.idle": "2021-07-14T15:10:31.065489Z",
     "shell.execute_reply": "2021-07-14T15:10:31.064948Z"
    },
    "papermill": {
     "duration": 0.030952,
     "end_time": "2021-07-14T15:10:31.065654",
     "exception": false,
     "start_time": "2021-07-14T15:10:31.034702",
     "status": "completed"
    },
    "tags": []
   },
   "outputs": [
    {
     "data": {
      "application/javascript": [
       "parent.postMessage({\"jupyterEvent\": \"custom.exercise_interaction\", \"data\": {\"interactionType\": 2, \"questionType\": 1, \"questionId\": \"2_BestRatingPerPrice\", \"learnToolsVersion\": \"0.3.4\", \"valueTowardsCompletion\": 0.0, \"failureMessage\": \"\", \"exceptionClass\": \"\", \"trace\": \"\", \"outcomeType\": 4}}, \"*\")"
      ],
      "text/plain": [
       "<IPython.core.display.Javascript object>"
      ]
     },
     "metadata": {},
     "output_type": "display_data"
    },
    {
     "data": {
      "text/markdown": [
       "<span style=\"color:#3366cc\">Hint:</span> Use `max()` and `sort_index()`.  The relevant columns in the DataFrame are `price` and `points`."
      ],
      "text/plain": [
       "Hint: Use `max()` and `sort_index()`.  The relevant columns in the DataFrame are `price` and `points`."
      ]
     },
     "metadata": {},
     "output_type": "display_data"
    }
   ],
   "source": [
    "q2.hint()\n",
    "#q2.solution()"
   ]
  },
  {
   "cell_type": "markdown",
   "id": "320b624e",
   "metadata": {
    "papermill": {
     "duration": 0.020545,
     "end_time": "2021-07-14T15:10:31.107419",
     "exception": false,
     "start_time": "2021-07-14T15:10:31.086874",
     "status": "completed"
    },
    "tags": []
   },
   "source": [
    "## 3.\n",
    "What are the minimum and maximum prices for each `variety` of wine? Create a `DataFrame` whose index is the `variety` category from the dataset and whose values are the `min` and `max` values thereof."
   ]
  },
  {
   "cell_type": "code",
   "execution_count": 6,
   "id": "c0b9886a",
   "metadata": {
    "execution": {
     "iopub.execute_input": "2021-07-14T15:10:31.154620Z",
     "iopub.status.busy": "2021-07-14T15:10:31.153882Z",
     "iopub.status.idle": "2021-07-14T15:10:31.187310Z",
     "shell.execute_reply": "2021-07-14T15:10:31.187793Z"
    },
    "papermill": {
     "duration": 0.059506,
     "end_time": "2021-07-14T15:10:31.187962",
     "exception": false,
     "start_time": "2021-07-14T15:10:31.128456",
     "status": "completed"
    },
    "tags": []
   },
   "outputs": [
    {
     "data": {
      "application/javascript": [
       "parent.postMessage({\"jupyterEvent\": \"custom.exercise_interaction\", \"data\": {\"outcomeType\": 1, \"valueTowardsCompletion\": 0.16666666666666666, \"interactionType\": 1, \"questionType\": 1, \"questionId\": \"3_PriceExtremes\", \"learnToolsVersion\": \"0.3.4\", \"failureMessage\": \"\", \"exceptionClass\": \"\", \"trace\": \"\"}}, \"*\")"
      ],
      "text/plain": [
       "<IPython.core.display.Javascript object>"
      ]
     },
     "metadata": {},
     "output_type": "display_data"
    },
    {
     "data": {
      "text/markdown": [
       "<span style=\"color:#33cc33\">Correct</span>"
      ],
      "text/plain": [
       "Correct"
      ]
     },
     "metadata": {},
     "output_type": "display_data"
    }
   ],
   "source": [
    "price_extremes = reviews.groupby('variety').price.agg([min, max])\n",
    "# Check your answer\n",
    "q3.check()"
   ]
  },
  {
   "cell_type": "code",
   "execution_count": 7,
   "id": "e06b850d",
   "metadata": {
    "execution": {
     "iopub.execute_input": "2021-07-14T15:10:31.235580Z",
     "iopub.status.busy": "2021-07-14T15:10:31.234907Z",
     "iopub.status.idle": "2021-07-14T15:10:31.240721Z",
     "shell.execute_reply": "2021-07-14T15:10:31.241267Z"
    },
    "papermill": {
     "duration": 0.03142,
     "end_time": "2021-07-14T15:10:31.241465",
     "exception": false,
     "start_time": "2021-07-14T15:10:31.210045",
     "status": "completed"
    },
    "tags": []
   },
   "outputs": [
    {
     "data": {
      "application/javascript": [
       "parent.postMessage({\"jupyterEvent\": \"custom.exercise_interaction\", \"data\": {\"interactionType\": 2, \"questionType\": 1, \"questionId\": \"3_PriceExtremes\", \"learnToolsVersion\": \"0.3.4\", \"valueTowardsCompletion\": 0.0, \"failureMessage\": \"\", \"exceptionClass\": \"\", \"trace\": \"\", \"outcomeType\": 4}}, \"*\")"
      ],
      "text/plain": [
       "<IPython.core.display.Javascript object>"
      ]
     },
     "metadata": {},
     "output_type": "display_data"
    },
    {
     "data": {
      "text/markdown": [
       "<span style=\"color:#3366cc\">Hint:</span> Use `agg()`."
      ],
      "text/plain": [
       "Hint: Use `agg()`."
      ]
     },
     "metadata": {},
     "output_type": "display_data"
    }
   ],
   "source": [
    "q3.hint()\n",
    "#q3.solution()"
   ]
  },
  {
   "cell_type": "markdown",
   "id": "8a289d55",
   "metadata": {
    "papermill": {
     "duration": 0.022937,
     "end_time": "2021-07-14T15:10:31.287792",
     "exception": false,
     "start_time": "2021-07-14T15:10:31.264855",
     "status": "completed"
    },
    "tags": []
   },
   "source": [
    "## 4.\n",
    "What are the most expensive wine varieties? Create a variable `sorted_varieties` containing a copy of the dataframe from the previous question where varieties are sorted in descending order based on minimum price, then on maximum price (to break ties)."
   ]
  },
  {
   "cell_type": "code",
   "execution_count": 8,
   "id": "27acaf39",
   "metadata": {
    "execution": {
     "iopub.execute_input": "2021-07-14T15:10:31.337665Z",
     "iopub.status.busy": "2021-07-14T15:10:31.336962Z",
     "iopub.status.idle": "2021-07-14T15:10:31.347889Z",
     "shell.execute_reply": "2021-07-14T15:10:31.347356Z"
    },
    "papermill": {
     "duration": 0.03675,
     "end_time": "2021-07-14T15:10:31.348037",
     "exception": false,
     "start_time": "2021-07-14T15:10:31.311287",
     "status": "completed"
    },
    "tags": []
   },
   "outputs": [
    {
     "data": {
      "application/javascript": [
       "parent.postMessage({\"jupyterEvent\": \"custom.exercise_interaction\", \"data\": {\"outcomeType\": 1, \"valueTowardsCompletion\": 0.16666666666666666, \"interactionType\": 1, \"questionType\": 1, \"questionId\": \"4_SortedVarieties\", \"learnToolsVersion\": \"0.3.4\", \"failureMessage\": \"\", \"exceptionClass\": \"\", \"trace\": \"\"}}, \"*\")"
      ],
      "text/plain": [
       "<IPython.core.display.Javascript object>"
      ]
     },
     "metadata": {},
     "output_type": "display_data"
    },
    {
     "data": {
      "text/markdown": [
       "<span style=\"color:#33cc33\">Correct</span>"
      ],
      "text/plain": [
       "Correct"
      ]
     },
     "metadata": {},
     "output_type": "display_data"
    }
   ],
   "source": [
    "\n",
    "sorted_varieties = price_extremes.sort_values(by=['min', 'max'], ascending=False)\n",
    "# Check your answer\n",
    "q4.check()"
   ]
  },
  {
   "cell_type": "code",
   "execution_count": 9,
   "id": "c12bab73",
   "metadata": {
    "execution": {
     "iopub.execute_input": "2021-07-14T15:10:31.402608Z",
     "iopub.status.busy": "2021-07-14T15:10:31.401836Z",
     "iopub.status.idle": "2021-07-14T15:10:31.410744Z",
     "shell.execute_reply": "2021-07-14T15:10:31.411373Z"
    },
    "papermill": {
     "duration": 0.03903,
     "end_time": "2021-07-14T15:10:31.411552",
     "exception": false,
     "start_time": "2021-07-14T15:10:31.372522",
     "status": "completed"
    },
    "tags": []
   },
   "outputs": [
    {
     "data": {
      "application/javascript": [
       "parent.postMessage({\"jupyterEvent\": \"custom.exercise_interaction\", \"data\": {\"interactionType\": 2, \"questionType\": 1, \"questionId\": \"4_SortedVarieties\", \"learnToolsVersion\": \"0.3.4\", \"valueTowardsCompletion\": 0.0, \"failureMessage\": \"\", \"exceptionClass\": \"\", \"trace\": \"\", \"outcomeType\": 4}}, \"*\")"
      ],
      "text/plain": [
       "<IPython.core.display.Javascript object>"
      ]
     },
     "metadata": {},
     "output_type": "display_data"
    },
    {
     "data": {
      "text/markdown": [
       "<span style=\"color:#3366cc\">Hint:</span> Use `sort_values()`, and provide a list of names to sort by."
      ],
      "text/plain": [
       "Hint: Use `sort_values()`, and provide a list of names to sort by."
      ]
     },
     "metadata": {},
     "output_type": "display_data"
    },
    {
     "data": {
      "application/javascript": [
       "parent.postMessage({\"jupyterEvent\": \"custom.exercise_interaction\", \"data\": {\"interactionType\": 3, \"questionType\": 1, \"questionId\": \"4_SortedVarieties\", \"learnToolsVersion\": \"0.3.4\", \"valueTowardsCompletion\": 0.0, \"failureMessage\": \"\", \"exceptionClass\": \"\", \"trace\": \"\", \"outcomeType\": 4}}, \"*\")"
      ],
      "text/plain": [
       "<IPython.core.display.Javascript object>"
      ]
     },
     "metadata": {},
     "output_type": "display_data"
    },
    {
     "data": {
      "text/markdown": [
       "<span style=\"color:#33cc99\">Solution:</span> \n",
       "```python\n",
       "sorted_varieties = price_extremes.sort_values(by=['min', 'max'], ascending=False)\n",
       "```"
      ],
      "text/plain": [
       "Solution: \n",
       "```python\n",
       "sorted_varieties = price_extremes.sort_values(by=['min', 'max'], ascending=False)\n",
       "```"
      ]
     },
     "metadata": {},
     "output_type": "display_data"
    }
   ],
   "source": [
    "q4.hint()\n",
    "q4.solution()"
   ]
  },
  {
   "cell_type": "markdown",
   "id": "f76b81fb",
   "metadata": {
    "papermill": {
     "duration": 0.026408,
     "end_time": "2021-07-14T15:10:31.464563",
     "exception": false,
     "start_time": "2021-07-14T15:10:31.438155",
     "status": "completed"
    },
    "tags": []
   },
   "source": [
    "## 5.\n",
    "Create a `Series` whose index is reviewers and whose values is the average review score given out by that reviewer. Hint: you will need the `taster_name` and `points` columns."
   ]
  },
  {
   "cell_type": "code",
   "execution_count": 10,
   "id": "912c1828",
   "metadata": {
    "execution": {
     "iopub.execute_input": "2021-07-14T15:10:31.521720Z",
     "iopub.status.busy": "2021-07-14T15:10:31.521048Z",
     "iopub.status.idle": "2021-07-14T15:10:31.547494Z",
     "shell.execute_reply": "2021-07-14T15:10:31.548024Z"
    },
    "papermill": {
     "duration": 0.056263,
     "end_time": "2021-07-14T15:10:31.548202",
     "exception": false,
     "start_time": "2021-07-14T15:10:31.491939",
     "status": "completed"
    },
    "tags": []
   },
   "outputs": [
    {
     "data": {
      "application/javascript": [
       "parent.postMessage({\"jupyterEvent\": \"custom.exercise_interaction\", \"data\": {\"outcomeType\": 1, \"valueTowardsCompletion\": 0.16666666666666666, \"interactionType\": 1, \"questionType\": 1, \"questionId\": \"5_ReviewerMeanRatings\", \"learnToolsVersion\": \"0.3.4\", \"failureMessage\": \"\", \"exceptionClass\": \"\", \"trace\": \"\"}}, \"*\")"
      ],
      "text/plain": [
       "<IPython.core.display.Javascript object>"
      ]
     },
     "metadata": {},
     "output_type": "display_data"
    },
    {
     "data": {
      "text/markdown": [
       "<span style=\"color:#33cc33\">Correct</span>"
      ],
      "text/plain": [
       "Correct"
      ]
     },
     "metadata": {},
     "output_type": "display_data"
    }
   ],
   "source": [
    "reviewer_mean_ratings = reviews.groupby('taster_name').points.mean()\n",
    "\n",
    "\n",
    "\n",
    "# Check your answer\n",
    "q5.check()"
   ]
  },
  {
   "cell_type": "code",
   "execution_count": 11,
   "id": "df6748f3",
   "metadata": {
    "execution": {
     "iopub.execute_input": "2021-07-14T15:10:31.606697Z",
     "iopub.status.busy": "2021-07-14T15:10:31.606028Z",
     "iopub.status.idle": "2021-07-14T15:10:31.612621Z",
     "shell.execute_reply": "2021-07-14T15:10:31.613064Z"
    },
    "papermill": {
     "duration": 0.037429,
     "end_time": "2021-07-14T15:10:31.613274",
     "exception": false,
     "start_time": "2021-07-14T15:10:31.575845",
     "status": "completed"
    },
    "tags": []
   },
   "outputs": [
    {
     "data": {
      "application/javascript": [
       "parent.postMessage({\"jupyterEvent\": \"custom.exercise_interaction\", \"data\": {\"interactionType\": 3, \"questionType\": 1, \"questionId\": \"5_ReviewerMeanRatings\", \"learnToolsVersion\": \"0.3.4\", \"valueTowardsCompletion\": 0.0, \"failureMessage\": \"\", \"exceptionClass\": \"\", \"trace\": \"\", \"outcomeType\": 4}}, \"*\")"
      ],
      "text/plain": [
       "<IPython.core.display.Javascript object>"
      ]
     },
     "metadata": {},
     "output_type": "display_data"
    },
    {
     "data": {
      "text/markdown": [
       "<span style=\"color:#33cc99\">Solution:</span> \n",
       "```python\n",
       "reviewer_mean_ratings = reviews.groupby('taster_name').points.mean()\n",
       "```"
      ],
      "text/plain": [
       "Solution: \n",
       "```python\n",
       "reviewer_mean_ratings = reviews.groupby('taster_name').points.mean()\n",
       "```"
      ]
     },
     "metadata": {},
     "output_type": "display_data"
    }
   ],
   "source": [
    "#q5.hint()\n",
    "q5.solution()"
   ]
  },
  {
   "cell_type": "markdown",
   "id": "955aa333",
   "metadata": {
    "papermill": {
     "duration": 0.029168,
     "end_time": "2021-07-14T15:10:31.671432",
     "exception": false,
     "start_time": "2021-07-14T15:10:31.642264",
     "status": "completed"
    },
    "tags": []
   },
   "source": [
    "Are there significant differences in the average scores assigned by the various reviewers? Run the cell below to use the `describe()` method to see a summary of the range of values."
   ]
  },
  {
   "cell_type": "code",
   "execution_count": 12,
   "id": "660614f8",
   "metadata": {
    "execution": {
     "iopub.execute_input": "2021-07-14T15:10:31.734359Z",
     "iopub.status.busy": "2021-07-14T15:10:31.733371Z",
     "iopub.status.idle": "2021-07-14T15:10:31.746472Z",
     "shell.execute_reply": "2021-07-14T15:10:31.745924Z"
    },
    "papermill": {
     "duration": 0.044849,
     "end_time": "2021-07-14T15:10:31.746618",
     "exception": false,
     "start_time": "2021-07-14T15:10:31.701769",
     "status": "completed"
    },
    "tags": []
   },
   "outputs": [
    {
     "data": {
      "text/plain": [
       "count    19.000000\n",
       "mean     88.233026\n",
       "std       1.243610\n",
       "min      85.855422\n",
       "25%      87.323501\n",
       "50%      88.536235\n",
       "75%      88.975256\n",
       "max      90.562551\n",
       "Name: points, dtype: float64"
      ]
     },
     "execution_count": 12,
     "metadata": {},
     "output_type": "execute_result"
    }
   ],
   "source": [
    "reviewer_mean_ratings.describe()"
   ]
  },
  {
   "cell_type": "markdown",
   "id": "a7c9531d",
   "metadata": {
    "papermill": {
     "duration": 0.02975,
     "end_time": "2021-07-14T15:10:31.805789",
     "exception": false,
     "start_time": "2021-07-14T15:10:31.776039",
     "status": "completed"
    },
    "tags": []
   },
   "source": [
    "## 6.\n",
    "What combination of countries and varieties are most common? Create a `Series` whose index is a `MultiIndex`of `{country, variety}` pairs. For example, a pinot noir produced in the US should map to `{\"US\", \"Pinot Noir\"}`. Sort the values in the `Series` in descending order based on wine count."
   ]
  },
  {
   "cell_type": "code",
   "execution_count": 13,
   "id": "c0b67a45",
   "metadata": {
    "execution": {
     "iopub.execute_input": "2021-07-14T15:10:31.888783Z",
     "iopub.status.busy": "2021-07-14T15:10:31.887659Z",
     "iopub.status.idle": "2021-07-14T15:10:31.920736Z",
     "shell.execute_reply": "2021-07-14T15:10:31.921229Z"
    },
    "papermill": {
     "duration": 0.085802,
     "end_time": "2021-07-14T15:10:31.921442",
     "exception": false,
     "start_time": "2021-07-14T15:10:31.835640",
     "status": "completed"
    },
    "tags": []
   },
   "outputs": [
    {
     "data": {
      "application/javascript": [
       "parent.postMessage({\"jupyterEvent\": \"custom.exercise_interaction\", \"data\": {\"outcomeType\": 1, \"valueTowardsCompletion\": 0.16666666666666666, \"interactionType\": 1, \"questionType\": 1, \"questionId\": \"6_GroupbyCountryVariety\", \"learnToolsVersion\": \"0.3.4\", \"failureMessage\": \"\", \"exceptionClass\": \"\", \"trace\": \"\"}}, \"*\")"
      ],
      "text/plain": [
       "<IPython.core.display.Javascript object>"
      ]
     },
     "metadata": {},
     "output_type": "display_data"
    },
    {
     "data": {
      "text/markdown": [
       "<span style=\"color:#33cc33\">Correct</span>"
      ],
      "text/plain": [
       "Correct"
      ]
     },
     "metadata": {},
     "output_type": "display_data"
    }
   ],
   "source": [
    "country_variety_counts = reviews.groupby(['country', 'variety']).size().sort_values(ascending=False)\n",
    "# Check your answer\n",
    "q6.check()"
   ]
  },
  {
   "cell_type": "code",
   "execution_count": 14,
   "id": "a37ba4f2",
   "metadata": {
    "execution": {
     "iopub.execute_input": "2021-07-14T15:10:31.988034Z",
     "iopub.status.busy": "2021-07-14T15:10:31.986956Z",
     "iopub.status.idle": "2021-07-14T15:10:31.995644Z",
     "shell.execute_reply": "2021-07-14T15:10:31.995066Z"
    },
    "papermill": {
     "duration": 0.043187,
     "end_time": "2021-07-14T15:10:31.995812",
     "exception": false,
     "start_time": "2021-07-14T15:10:31.952625",
     "status": "completed"
    },
    "tags": []
   },
   "outputs": [
    {
     "data": {
      "application/javascript": [
       "parent.postMessage({\"jupyterEvent\": \"custom.exercise_interaction\", \"data\": {\"interactionType\": 3, \"questionType\": 1, \"questionId\": \"6_GroupbyCountryVariety\", \"learnToolsVersion\": \"0.3.4\", \"valueTowardsCompletion\": 0.0, \"failureMessage\": \"\", \"exceptionClass\": \"\", \"trace\": \"\", \"outcomeType\": 4}}, \"*\")"
      ],
      "text/plain": [
       "<IPython.core.display.Javascript object>"
      ]
     },
     "metadata": {},
     "output_type": "display_data"
    },
    {
     "data": {
      "text/markdown": [
       "<span style=\"color:#33cc99\">Solution:</span> \n",
       "```python\n",
       "country_variety_counts = reviews.groupby(['country', 'variety']).size().sort_values(ascending=False)\n",
       "```"
      ],
      "text/plain": [
       "Solution: \n",
       "```python\n",
       "country_variety_counts = reviews.groupby(['country', 'variety']).size().sort_values(ascending=False)\n",
       "```"
      ]
     },
     "metadata": {},
     "output_type": "display_data"
    }
   ],
   "source": [
    "#q6.hint()\n",
    "q6.solution()"
   ]
  },
  {
   "cell_type": "markdown",
   "id": "220f3ce7",
   "metadata": {
    "papermill": {
     "duration": 0.031755,
     "end_time": "2021-07-14T15:10:32.059407",
     "exception": false,
     "start_time": "2021-07-14T15:10:32.027652",
     "status": "completed"
    },
    "tags": []
   },
   "source": [
    "# Keep going\n",
    "\n",
    "Move on to the [**data types and missing data**](https://www.kaggle.com/residentmario/data-types-and-missing-values)."
   ]
  },
  {
   "cell_type": "markdown",
   "id": "2da6ac0b",
   "metadata": {
    "papermill": {
     "duration": 0.032378,
     "end_time": "2021-07-14T15:10:32.123643",
     "exception": false,
     "start_time": "2021-07-14T15:10:32.091265",
     "status": "completed"
    },
    "tags": []
   },
   "source": [
    "---\n",
    "\n",
    "\n",
    "\n",
    "\n",
    "*Have questions or comments? Visit the [Learn Discussion forum](https://www.kaggle.com/learn-forum/161299) to chat with other Learners.*"
   ]
  }
 ],
 "metadata": {
  "kernelspec": {
   "display_name": "Python 3",
   "language": "python",
   "name": "python3"
  },
  "language_info": {
   "codemirror_mode": {
    "name": "ipython",
    "version": 3
   },
   "file_extension": ".py",
   "mimetype": "text/x-python",
   "name": "python",
   "nbconvert_exporter": "python",
   "pygments_lexer": "ipython3",
   "version": "3.7.10"
  },
  "papermill": {
   "default_parameters": {},
   "duration": 14.821513,
   "end_time": "2021-07-14T15:10:33.679278",
   "environment_variables": {},
   "exception": null,
   "input_path": "__notebook__.ipynb",
   "output_path": "__notebook__.ipynb",
   "parameters": {},
   "start_time": "2021-07-14T15:10:18.857765",
   "version": "2.3.3"
  }
 },
 "nbformat": 4,
 "nbformat_minor": 5
}
